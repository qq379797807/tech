{
 "cells": [
  {
   "cell_type": "code",
   "execution_count": 1,
   "id": "0db01b2a-da07-4180-b2e2-2d1dd1f13aed",
   "metadata": {},
   "outputs": [],
   "source": [
    "import sympy as sp"
   ]
  },
  {
   "cell_type": "code",
   "execution_count": 2,
   "id": "31037dc7-ce5c-4ab9-9a0a-0d3edcc05f9e",
   "metadata": {},
   "outputs": [],
   "source": [
    "x,y=sp.symbols('x y')"
   ]
  },
  {
   "cell_type": "code",
   "execution_count": 3,
   "id": "0d2ac869-c484-4462-babc-8b67e98177af",
   "metadata": {},
   "outputs": [],
   "source": [
    "expr=(x+y)**2"
   ]
  },
  {
   "cell_type": "code",
   "execution_count": 4,
   "id": "dc918dda-ba5b-4066-b8ab-188b60f4c74f",
   "metadata": {},
   "outputs": [
    {
     "data": {
      "text/plain": [
       "2"
      ]
     },
     "execution_count": 4,
     "metadata": {},
     "output_type": "execute_result"
    }
   ],
   "source": [
    "1+1"
   ]
  },
  {
   "cell_type": "code",
   "execution_count": 5,
   "id": "65a15621-e182-4074-a4ae-8a931a605e2b",
   "metadata": {},
   "outputs": [
    {
     "name": "stdout",
     "output_type": "stream",
     "text": [
      "x**2 + 2*x*y + y**2\n"
     ]
    }
   ],
   "source": [
    "print(sp.expand(expr))"
   ]
  },
  {
   "cell_type": "code",
   "execution_count": 6,
   "id": "140e2c2b-7f26-4d4b-a70d-2b17f6f26e3b",
   "metadata": {},
   "outputs": [],
   "source": [
    "dd=sp.diff(expr,x)"
   ]
  },
  {
   "cell_type": "code",
   "execution_count": 7,
   "id": "d14ef18d-dece-4852-be1b-d0848057ec3b",
   "metadata": {},
   "outputs": [
    {
     "name": "stdout",
     "output_type": "stream",
     "text": [
      "2*x + 2*y\n"
     ]
    }
   ],
   "source": [
    "print(dd)"
   ]
  },
  {
   "cell_type": "code",
   "execution_count": 8,
   "id": "353dd4de-36dd-46b0-bb6f-3acc447176bf",
   "metadata": {},
   "outputs": [
    {
     "name": "stdout",
     "output_type": "stream",
     "text": [
      "[-2, 2]\n"
     ]
    }
   ],
   "source": [
    "so=sp.solve(x**2-4,x)\n",
    "print(so)"
   ]
  }
 ],
 "metadata": {
  "kernelspec": {
   "display_name": "Python 3 (ipykernel)",
   "language": "python",
   "name": "python3"
  },
  "language_info": {
   "codemirror_mode": {
    "name": "ipython",
    "version": 3
   },
   "file_extension": ".py",
   "mimetype": "text/x-python",
   "name": "python",
   "nbconvert_exporter": "python",
   "pygments_lexer": "ipython3",
   "version": "3.13.6"
  }
 },
 "nbformat": 4,
 "nbformat_minor": 5
}
